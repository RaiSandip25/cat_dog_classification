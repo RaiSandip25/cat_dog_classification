{
 "cells": [
  {
   "cell_type": "code",
   "execution_count": 3,
   "metadata": {},
   "outputs": [
    {
     "name": "stdout",
     "output_type": "stream",
     "text": [
      "      Height    Weight  Sound  Label\n",
      "0  27.483571  2.584629      0      0\n",
      "1  24.308678  3.579355      0      0\n",
      "2  28.238443  3.657285      0      0\n",
      "3  32.615149  3.197723      0      0\n",
      "4  23.829233  3.838714      0      0\n",
      "        Height     Weight  Sound  Label\n",
      "195  43.070904  17.654122      1      1\n",
      "196  58.995999  11.434327      1      1\n",
      "197  53.072995  26.769362      1      1\n",
      "198  58.128621  19.427301      1      1\n",
      "199  56.296288  26.189082      1      1\n"
     ]
    }
   ],
   "source": [
    "import numpy as np\n",
    "import pandas as pd\n",
    "\n",
    "# Set random seed for reproducibility\n",
    "np.random.seed(42)\n",
    "\n",
    "# Generate data for cats\n",
    "cat_height = np.random.normal(25, 5, 100)  # Mean 25 cm, SD 5 cm\n",
    "cat_weight = np.random.normal(4, 1, 100)   # Mean 4 kg, SD 1 kg\n",
    "cat_sound = [0] * (100)                   # Meow = 0\n",
    "\n",
    "# Generate data for dogs\n",
    "dog_height = np.random.normal(50, 10, 100)  # Mean 50 cm, SD 10 cm\n",
    "dog_weight = np.random.normal(20, 5, 100)   # Mean 20 kg, SD 5 kg\n",
    "dog_sound = [1] * (100)                    # Bark = 1\n",
    "\n",
    "# Combine data\n",
    "height = np.concatenate([cat_height, dog_height])\n",
    "weight = np.concatenate([cat_weight, dog_weight])\n",
    "sound = np.concatenate([cat_sound, dog_sound])\n",
    "labels = [0] * 100 + [1] * 100  # Cat=0, Dog=1\n",
    "\n",
    "# Create DataFrame\n",
    "data = pd.DataFrame({\n",
    "    'Height': height,\n",
    "    'Weight': weight,\n",
    "    'Sound': sound,\n",
    "    'Label': labels\n",
    "})\n",
    "\n",
    "# Save dataset (optional)\n",
    "data.to_csv('cat_dog_data.csv', index=False)\n",
    "\n",
    "print(data.head())\n",
    "print(data.tail())"
   ]
  },
  {
   "cell_type": "code",
   "execution_count": null,
   "metadata": {},
   "outputs": [],
   "source": []
  }
 ],
 "metadata": {
  "kernelspec": {
   "display_name": "Python 3",
   "language": "python",
   "name": "python3"
  },
  "language_info": {
   "codemirror_mode": {
    "name": "ipython",
    "version": 3
   },
   "file_extension": ".py",
   "mimetype": "text/x-python",
   "name": "python",
   "nbconvert_exporter": "python",
   "pygments_lexer": "ipython3",
   "version": "3.12.3"
  }
 },
 "nbformat": 4,
 "nbformat_minor": 2
}
